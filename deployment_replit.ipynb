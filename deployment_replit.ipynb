{
 "cells": [
  {
   "cell_type": "code",
   "execution_count": 1,
   "metadata": {},
   "outputs": [
    {
     "name": "stderr",
     "output_type": "stream",
     "text": [
      "/Users/lnshuti/anaconda3/envs/real_estate_data/lib/python3.9/site-packages/tqdm/auto.py:21: TqdmWarning: IProgress not found. Please update jupyter and ipywidgets. See https://ipywidgets.readthedocs.io/en/stable/user_install.html\n",
      "  from .autonotebook import tqdm as notebook_tqdm\n",
      "Downloading (…)lve/main/config.json: 100%|██████████| 1.12k/1.12k [00:00<00:00, 292kB/s]\n",
      "Downloading (…)uration_replit_lm.py: 100%|██████████| 8.89k/8.89k [00:00<00:00, 5.60MB/s]\n",
      "A new version of the following files was downloaded from https://huggingface.co/replit/replit-code-v1-3b:\n",
      "- configuration_replit_lm.py\n",
      ". Make sure to double-check they do not contain any added malicious code. To avoid downloading new versions of the code file, you can pin a revision.\n",
      "Downloading (…)ve/main/replit_lm.py: 100%|██████████| 19.7k/19.7k [00:00<00:00, 16.4MB/s]\n",
      "Downloading (…)e/main/gpt_blocks.py: 100%|██████████| 3.11k/3.11k [00:00<00:00, 1.81MB/s]\n",
      "Downloading (…)ve/main/attention.py: 100%|██████████| 13.8k/13.8k [00:00<00:00, 9.13MB/s]\n",
      "Downloading (…)ecision_layernorm.py: 100%|██████████| 1.30k/1.30k [00:00<00:00, 619kB/s]\n",
      "A new version of the following files was downloaded from https://huggingface.co/replit/replit-code-v1-3b:\n",
      "- low_precision_layernorm.py\n",
      ". Make sure to double-check they do not contain any added malicious code. To avoid downloading new versions of the code file, you can pin a revision.\n",
      "A new version of the following files was downloaded from https://huggingface.co/replit/replit-code-v1-3b:\n",
      "- attention.py\n",
      "- low_precision_layernorm.py\n",
      ". Make sure to double-check they do not contain any added malicious code. To avoid downloading new versions of the code file, you can pin a revision.\n",
      "A new version of the following files was downloaded from https://huggingface.co/replit/replit-code-v1-3b:\n",
      "- gpt_blocks.py\n",
      "- attention.py\n",
      ". Make sure to double-check they do not contain any added malicious code. To avoid downloading new versions of the code file, you can pin a revision.\n",
      "Downloading (…)in/param_init_fns.py: 100%|██████████| 15.9k/15.9k [00:00<00:00, 9.86MB/s]\n",
      "A new version of the following files was downloaded from https://huggingface.co/replit/replit-code-v1-3b:\n",
      "- param_init_fns.py\n",
      ". Make sure to double-check they do not contain any added malicious code. To avoid downloading new versions of the code file, you can pin a revision.\n",
      "A new version of the following files was downloaded from https://huggingface.co/replit/replit-code-v1-3b:\n",
      "- replit_lm.py\n",
      "- gpt_blocks.py\n",
      "- param_init_fns.py\n",
      ". Make sure to double-check they do not contain any added malicious code. To avoid downloading new versions of the code file, you can pin a revision.\n",
      "Downloading pytorch_model.bin: 100%|██████████| 10.4G/10.4G [06:03<00:00, 28.6MB/s]\n"
     ]
    },
    {
     "name": "stdout",
     "output_type": "stream",
     "text": [
      "You are using config.init_device='cpu', but you can also use config.init_device=\"meta\" with Composer + FSDP for fast initialization.\n"
     ]
    }
   ],
   "source": [
    "from transformers import AutoModelForCausalLM\n",
    "\n",
    "# load model\n",
    "model = AutoModelForCausalLM.from_pretrained('replit/replit-code-v1-3b', trust_remote_code=True)\n"
   ]
  },
  {
   "cell_type": "code",
   "execution_count": null,
   "metadata": {},
   "outputs": [],
   "source": []
  }
 ],
 "metadata": {
  "kernelspec": {
   "display_name": "real_estate_data",
   "language": "python",
   "name": "python3"
  },
  "language_info": {
   "codemirror_mode": {
    "name": "ipython",
    "version": 3
   },
   "file_extension": ".py",
   "mimetype": "text/x-python",
   "name": "python",
   "nbconvert_exporter": "python",
   "pygments_lexer": "ipython3",
   "version": "3.9.16"
  },
  "orig_nbformat": 4
 },
 "nbformat": 4,
 "nbformat_minor": 2
}
