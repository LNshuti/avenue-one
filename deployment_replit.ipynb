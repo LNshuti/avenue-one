{
 "cells": [
  {
   "attachments": {},
   "cell_type": "markdown",
   "metadata": {},
   "source": [
    "Use the Hugging Face Transformers library to load a pre-trained model and perform a forward pass on input data. The AutoModelForCausalLM class from the Hugging Face Transformers library represents an autoencoder model specifically designed for causal language modeling tasks."
   ]
  },
  {
   "cell_type": "code",
   "execution_count": 5,
   "metadata": {},
   "outputs": [
    {
     "name": "stdout",
     "output_type": "stream",
     "text": [
      "You are using config.init_device='cpu', but you can also use config.init_device=\"meta\" with Composer + FSDP for fast initialization.\n"
     ]
    },
    {
     "ename": "",
     "evalue": "",
     "output_type": "error",
     "traceback": [
      "\u001b[1;31mCanceled future for execute_request message before replies were done"
     ]
    },
    {
     "ename": "",
     "evalue": "",
     "output_type": "error",
     "traceback": [
      "\u001b[1;31mThe Kernel crashed while executing code in the the current cell or a previous cell. Please review the code in the cell(s) to identify a possible cause of the failure. Click <a href='https://aka.ms/vscodeJupyterKernelCrash'>here</a> for more info. View Jupyter <a href='command:jupyter.viewOutput'>log</a> for further details."
     ]
    }
   ],
   "source": [
    "from transformers import AutoModelForCausalLM\n",
    "import torch \n",
    "# load model\n",
    "model = AutoModelForCausalLM.from_pretrained('replit/replit-code-v1-3b', trust_remote_code=True)\n",
    "from transformers import AutoModelForCausalLM\n",
    "\n",
    "# load model\n",
    "model = AutoModelForCausalLM.from_pretrained('replit/replit-code-v1-3b', trust_remote_code=True, attn_impl='triton')\n",
    "model.to(device='cuda:0', dtype=torch.bfloat16)\n",
    "\n",
    "# forward pass\n",
    "x = torch.tensor([[0, 1, 2, 3, 4, 5, 6, 7, 8, 9]])\n",
    "x = x.to(device='cuda:0')\n",
    "y = model(x)"
   ]
  },
  {
   "cell_type": "code",
   "execution_count": 1,
   "metadata": {},
   "outputs": [
    {
     "name": "stderr",
     "output_type": "stream",
     "text": [
      "/Users/lnshuti/anaconda3/envs/real_estate_data/lib/python3.9/site-packages/tqdm/auto.py:21: TqdmWarning: IProgress not found. Please update jupyter and ipywidgets. See https://ipywidgets.readthedocs.io/en/stable/user_install.html\n",
      "  from .autonotebook import tqdm as notebook_tqdm\n",
      "Downloading (…)okenizer_config.json: 100%|██████████| 431/431 [00:00<00:00, 269kB/s]\n",
      "Downloading (…)plit_lm_tokenizer.py: 100%|██████████| 6.69k/6.69k [00:00<00:00, 4.75MB/s]\n",
      "A new version of the following files was downloaded from https://huggingface.co/replit/replit-code-v1-3b:\n",
      "- replit_lm_tokenizer.py\n",
      ". Make sure to double-check they do not contain any added malicious code. To avoid downloading new versions of the code file, you can pin a revision.\n",
      "Downloading spiece.model: 100%|██████████| 708k/708k [00:00<00:00, 5.93MB/s]\n",
      "Downloading (…)cial_tokens_map.json: 100%|██████████| 92.0/92.0 [00:00<00:00, 29.7kB/s]\n"
     ]
    },
    {
     "ename": "NameError",
     "evalue": "name 'model' is not defined",
     "output_type": "error",
     "traceback": [
      "\u001b[0;31m---------------------------------------------------------------------------\u001b[0m",
      "\u001b[0;31mNameError\u001b[0m                                 Traceback (most recent call last)",
      "Cell \u001b[0;32mIn[1], line 8\u001b[0m\n\u001b[1;32m      6\u001b[0m \u001b[39m# single input encoding + generation\u001b[39;00m\n\u001b[1;32m      7\u001b[0m x \u001b[39m=\u001b[39m tokenizer\u001b[39m.\u001b[39mencode(\u001b[39m'\u001b[39m\u001b[39mdef hello():\u001b[39m\u001b[39m\\n\u001b[39;00m\u001b[39m  print(\u001b[39m\u001b[39m\"\u001b[39m\u001b[39mhello world\u001b[39m\u001b[39m\"\u001b[39m\u001b[39m)\u001b[39m\u001b[39m\\n\u001b[39;00m\u001b[39m'\u001b[39m, return_tensors\u001b[39m=\u001b[39m\u001b[39m'\u001b[39m\u001b[39mpt\u001b[39m\u001b[39m'\u001b[39m)\n\u001b[0;32m----> 8\u001b[0m y \u001b[39m=\u001b[39m model\u001b[39m.\u001b[39mgenerate(x)\n\u001b[1;32m     10\u001b[0m \u001b[39m# decoding, clean_up_tokenization_spaces=False to ensure syntactical correctness\u001b[39;00m\n\u001b[1;32m     11\u001b[0m generated_code \u001b[39m=\u001b[39m tokenizer\u001b[39m.\u001b[39mdecode(y[\u001b[39m0\u001b[39m], skip_special_tokens\u001b[39m=\u001b[39m\u001b[39mTrue\u001b[39;00m, clean_up_tokenization_spaces\u001b[39m=\u001b[39m\u001b[39mFalse\u001b[39;00m)\n",
      "\u001b[0;31mNameError\u001b[0m: name 'model' is not defined"
     ]
    }
   ],
   "source": [
    "from transformers import AutoTokenizer\n",
    "\n",
    "# load tokenizer\n",
    "tokenizer = AutoTokenizer.from_pretrained('replit/replit-code-v1-3b', trust_remote_code=True)\n",
    "\n",
    "# single input encoding + generation\n",
    "x = tokenizer.encode('def hello():\\n  print(\"hello world\")\\n', return_tensors='pt')\n",
    "y = model.generate(x)\n",
    "\n",
    "# decoding, clean_up_tokenization_spaces=False to ensure syntactical correctness\n",
    "generated_code = tokenizer.decode(y[0], skip_special_tokens=True, clean_up_tokenization_spaces=False)\n",
    "print(generated_code)"
   ]
  },
  {
   "cell_type": "code",
   "execution_count": 2,
   "metadata": {},
   "outputs": [
    {
     "name": "stdout",
     "output_type": "stream",
     "text": [
      "You are using config.init_device='cpu', but you can also use config.init_device=\"meta\" with Composer + FSDP for fast initialization.\n"
     ]
    },
    {
     "name": "stderr",
     "output_type": "stream",
     "text": [
      "The attention mask and the pad token id were not set. As a consequence, you may observe unexpected behavior. Please pass your input's `attention_mask` to obtain reliable results.\n",
      "Setting `pad_token_id` to `eos_token_id`:1 for open-end generation.\n"
     ]
    }
   ],
   "source": [
    "from transformers import AutoModelForCausalLM, AutoTokenizer\n",
    "\n",
    "tokenizer = AutoTokenizer.from_pretrained('replit/replit-code-v1-3b', trust_remote_code=True)\n",
    "model = AutoModelForCausalLM.from_pretrained('replit/replit-code-v1-3b', trust_remote_code=True)\n",
    "\n",
    "x = tokenizer.encode('def fibonacci(n): ', return_tensors='pt')\n",
    "y = model.generate(x, max_length=100, do_sample=True, top_p=0.95, top_k=4, temperature=0.2, num_return_sequences=1, eos_token_id=tokenizer.eos_token_id)\n",
    "\n",
    "# decoding, clean_up_tokenization_spaces=False to ensure syntactical correctness\n",
    "generated_code = tokenizer.decode(y[0], skip_special_tokens=True, clean_up_tokenization_spaces=False)\n",
    "print(generated_code)"
   ]
  }
 ],
 "metadata": {
  "kernelspec": {
   "display_name": "real_estate_data",
   "language": "python",
   "name": "python3"
  },
  "language_info": {
   "codemirror_mode": {
    "name": "ipython",
    "version": 3
   },
   "file_extension": ".py",
   "mimetype": "text/x-python",
   "name": "python",
   "nbconvert_exporter": "python",
   "pygments_lexer": "ipython3",
   "version": "3.9.16"
  },
  "orig_nbformat": 4
 },
 "nbformat": 4,
 "nbformat_minor": 2
}
