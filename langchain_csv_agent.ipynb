{
 "cells": [
  {
   "cell_type": "code",
   "execution_count": null,
   "metadata": {},
   "outputs": [],
   "source": [
    "import pandas as pd \n",
    "import polars as pl \n",
    "import numpy as np\n",
    "import os\n",
    "import re\n",
    "import sys\n",
    "import time\n",
    "\n",
    "from polars import col, lit, when"
   ]
  },
  {
   "cell_type": "code",
   "execution_count": null,
   "metadata": {},
   "outputs": [],
   "source": [
    "%pip install polars"
   ]
  },
  {
   "cell_type": "code",
   "execution_count": null,
   "metadata": {},
   "outputs": [],
   "source": [
    "import os\n",
    "import getpass\n",
    "\n",
    "os.environ['OPENAI_API_KEY'] = getpass.getpass('OpenAI API Key:')"
   ]
  },
  {
   "cell_type": "code",
   "execution_count": null,
   "metadata": {},
   "outputs": [],
   "source": [
    "from langchain.agents import create_csv_agent\n",
    "from langchain.llms import OpenAI"
   ]
  },
  {
   "cell_type": "code",
   "execution_count": null,
   "metadata": {},
   "outputs": [],
   "source": [
    "agent = create_csv_agent(OpenAI(temperature=0), 'data/Metro_zhvf_growth_uc_sfrcondo_tier_0.33_0.67_sm_sa_month.csv', verbose=True)"
   ]
  },
  {
   "cell_type": "code",
   "execution_count": null,
   "metadata": {},
   "outputs": [],
   "source": [
    "agent.run(\"how many rows are there?\")"
   ]
  },
  {
   "cell_type": "code",
   "execution_count": null,
   "metadata": {},
   "outputs": [],
   "source": [
    "agent.run(\"summarize the contents of the table\")"
   ]
  },
  {
   "cell_type": "code",
   "execution_count": null,
   "metadata": {},
   "outputs": [],
   "source": [
    "agent.run(\"What are the five fastest growing regions?\")"
   ]
  },
  {
   "cell_type": "code",
   "execution_count": null,
   "metadata": {},
   "outputs": [],
   "source": [
    "%pip install tiktoken"
   ]
  },
  {
   "cell_type": "code",
   "execution_count": 24,
   "metadata": {},
   "outputs": [
    {
     "data": {
      "text/html": [
       "<div><style>\n",
       ".dataframe > thead > tr > th,\n",
       ".dataframe > tbody > tr > td {\n",
       "  text-align: right;\n",
       "}\n",
       "</style>\n",
       "<small>shape: (5, 103)</small><table border=\"1\" class=\"dataframe\"><thead><tr><th>RegionID</th><th>SizeRank</th><th>RegionName</th><th>RegionType</th><th>StateName</th><th>2015-03-31</th><th>2015-04-30</th><th>2015-05-31</th><th>2015-06-30</th><th>2015-07-31</th><th>2015-08-31</th><th>2015-09-30</th><th>2015-10-31</th><th>2015-11-30</th><th>2015-12-31</th><th>2016-01-31</th><th>2016-02-29</th><th>2016-03-31</th><th>2016-04-30</th><th>2016-05-31</th><th>2016-06-30</th><th>2016-07-31</th><th>2016-08-31</th><th>2016-09-30</th><th>2016-10-31</th><th>2016-11-30</th><th>2016-12-31</th><th>2017-01-31</th><th>2017-02-28</th><th>2017-03-31</th><th>2017-04-30</th><th>2017-05-31</th><th>2017-06-30</th><th>2017-07-31</th><th>2017-08-31</th><th>2017-09-30</th><th>2017-10-31</th><th>&hellip;</th><th>2020-04-30</th><th>2020-05-31</th><th>2020-06-30</th><th>2020-07-31</th><th>2020-08-31</th><th>2020-09-30</th><th>2020-10-31</th><th>2020-11-30</th><th>2020-12-31</th><th>2021-01-31</th><th>2021-02-28</th><th>2021-03-31</th><th>2021-04-30</th><th>2021-05-31</th><th>2021-06-30</th><th>2021-07-31</th><th>2021-08-31</th><th>2021-09-30</th><th>2021-10-31</th><th>2021-11-30</th><th>2021-12-31</th><th>2022-01-31</th><th>2022-02-28</th><th>2022-03-31</th><th>2022-04-30</th><th>2022-05-31</th><th>2022-06-30</th><th>2022-07-31</th><th>2022-08-31</th><th>2022-09-30</th><th>2022-10-31</th><th>2022-11-30</th><th>2022-12-31</th><th>2023-01-31</th><th>2023-02-28</th><th>2023-03-31</th><th>2023-04-30</th></tr><tr><td>i64</td><td>i64</td><td>str</td><td>str</td><td>str</td><td>f64</td><td>f64</td><td>f64</td><td>f64</td><td>f64</td><td>f64</td><td>f64</td><td>f64</td><td>f64</td><td>f64</td><td>f64</td><td>f64</td><td>f64</td><td>f64</td><td>f64</td><td>f64</td><td>f64</td><td>f64</td><td>f64</td><td>f64</td><td>f64</td><td>f64</td><td>f64</td><td>f64</td><td>f64</td><td>f64</td><td>f64</td><td>f64</td><td>f64</td><td>f64</td><td>f64</td><td>f64</td><td>&hellip;</td><td>f64</td><td>f64</td><td>f64</td><td>f64</td><td>f64</td><td>f64</td><td>f64</td><td>f64</td><td>f64</td><td>f64</td><td>f64</td><td>f64</td><td>f64</td><td>f64</td><td>f64</td><td>f64</td><td>f64</td><td>f64</td><td>f64</td><td>f64</td><td>f64</td><td>f64</td><td>f64</td><td>f64</td><td>f64</td><td>f64</td><td>f64</td><td>f64</td><td>f64</td><td>f64</td><td>f64</td><td>f64</td><td>f64</td><td>f64</td><td>f64</td><td>f64</td><td>f64</td></tr></thead><tbody><tr><td>102001</td><td>0</td><td>&quot;United States&quot;</td><td>&quot;country&quot;</td><td>null</td><td>1316.882137</td><td>1327.077746</td><td>1336.985344</td><td>1347.189723</td><td>1353.394167</td><td>1359.074745</td><td>1361.02959</td><td>1362.484521</td><td>1361.99959</td><td>1361.649193</td><td>1364.550876</td><td>1369.963599</td><td>1379.309944</td><td>1386.898118</td><td>1395.134067</td><td>1401.469517</td><td>1406.765645</td><td>1409.035038</td><td>1408.899558</td><td>1407.306618</td><td>1405.202237</td><td>1404.132406</td><td>1407.010103</td><td>1414.139039</td><td>1423.957912</td><td>1434.320507</td><td>1444.260427</td><td>1452.980349</td><td>1459.675943</td><td>1462.720983</td><td>1462.758291</td><td>1460.658616</td><td>&hellip;</td><td>1594.986052</td><td>1590.984243</td><td>1588.015929</td><td>1593.384711</td><td>1595.956018</td><td>1594.258842</td><td>1590.659951</td><td>1590.818415</td><td>1593.232693</td><td>1598.663102</td><td>1606.403315</td><td>1622.052751</td><td>1645.434281</td><td>1676.624721</td><td>1711.37393</td><td>1748.556406</td><td>1784.305473</td><td>1812.840551</td><td>1830.959961</td><td>1842.632765</td><td>1853.709904</td><td>1862.312776</td><td>1878.041155</td><td>1893.431256</td><td>1917.160444</td><td>1939.707277</td><td>1965.396128</td><td>1987.4913</td><td>2002.482563</td><td>2008.140297</td><td>2006.081681</td><td>1997.638718</td><td>1992.421079</td><td>1991.266756</td><td>1997.22861</td><td>2006.354216</td><td>2018.055353</td></tr><tr><td>394913</td><td>1</td><td>&quot;New York, NY&quot;</td><td>&quot;msa&quot;</td><td>&quot;NY&quot;</td><td>2443.764214</td><td>2464.71937</td><td>2483.19687</td><td>2500.971887</td><td>2512.71835</td><td>2527.235246</td><td>2535.637527</td><td>2538.121825</td><td>2530.41857</td><td>2520.939911</td><td>2514.393078</td><td>2517.074501</td><td>2522.602645</td><td>2533.320729</td><td>2545.975934</td><td>2562.720678</td><td>2575.710545</td><td>2579.940612</td><td>2580.827517</td><td>2572.804192</td><td>2565.740194</td><td>2552.94805</td><td>2545.638928</td><td>2545.900785</td><td>2553.484774</td><td>2568.132066</td><td>2586.419243</td><td>2604.540608</td><td>2620.435513</td><td>2625.28689</td><td>2626.368054</td><td>2615.597126</td><td>&hellip;</td><td>2734.003853</td><td>2714.528617</td><td>2687.140254</td><td>2660.915081</td><td>null</td><td>null</td><td>2512.370804</td><td>2480.089537</td><td>2464.501276</td><td>2462.847972</td><td>2466.083846</td><td>2485.388868</td><td>2516.052248</td><td>2565.91162</td><td>2622.574179</td><td>2687.832686</td><td>2749.730245</td><td>2802.92839</td><td>2836.559578</td><td>2858.662482</td><td>2876.972047</td><td>2898.104052</td><td>2935.461154</td><td>2978.231449</td><td>3030.895777</td><td>3089.224194</td><td>3151.866917</td><td>3207.49192</td><td>3233.573512</td><td>3231.414682</td><td>3207.885431</td><td>3175.252087</td><td>3151.638239</td><td>3143.696116</td><td>3159.468131</td><td>3188.554355</td><td>3229.346478</td></tr><tr><td>753899</td><td>2</td><td>&quot;Los Angeles, C…</td><td>&quot;msa&quot;</td><td>&quot;CA&quot;</td><td>1921.951938</td><td>1935.567889</td><td>1948.902894</td><td>1961.209437</td><td>1978.339689</td><td>1992.539805</td><td>2003.693107</td><td>2007.515047</td><td>2011.865137</td><td>2016.321057</td><td>2025.271124</td><td>2038.785648</td><td>2053.023696</td><td>2064.79274</td><td>2077.040621</td><td>2089.577254</td><td>2103.506829</td><td>2110.822049</td><td>2118.259875</td><td>2120.41636</td><td>2122.129423</td><td>2123.588364</td><td>2133.503842</td><td>2148.927275</td><td>2166.645502</td><td>2182.24086</td><td>2195.391682</td><td>2206.189849</td><td>2216.876899</td><td>2225.034927</td><td>2232.525823</td><td>2235.515281</td><td>&hellip;</td><td>null</td><td>null</td><td>2387.710691</td><td>2389.404037</td><td>2389.376732</td><td>2390.773149</td><td>2391.319141</td><td>2398.43669</td><td>2399.822633</td><td>2402.104678</td><td>2406.076988</td><td>2419.904232</td><td>2439.078322</td><td>2467.206528</td><td>2504.650324</td><td>2554.244345</td><td>2613.455887</td><td>2660.652851</td><td>2695.543962</td><td>2713.159599</td><td>2733.626302</td><td>2750.565013</td><td>2775.179103</td><td>2802.062323</td><td>2835.175022</td><td>2867.878174</td><td>2893.926879</td><td>2916.787977</td><td>2931.511579</td><td>2939.060199</td><td>2934.669745</td><td>2926.508092</td><td>2918.427897</td><td>2913.35203</td><td>2916.907462</td><td>2926.201136</td><td>2940.362187</td></tr><tr><td>394463</td><td>3</td><td>&quot;Chicago, IL&quot;</td><td>&quot;msa&quot;</td><td>&quot;IL&quot;</td><td>1490.453763</td><td>1502.13515</td><td>1513.653098</td><td>1523.141742</td><td>1529.525405</td><td>1533.51917</td><td>1532.799133</td><td>1526.916057</td><td>1517.062534</td><td>1513.560152</td><td>1515.842077</td><td>1526.465707</td><td>1536.860364</td><td>1547.478507</td><td>1556.899427</td><td>1565.417534</td><td>1573.15787</td><td>1576.370639</td><td>1570.27137</td><td>1558.180442</td><td>1545.853754</td><td>1540.468477</td><td>1542.347147</td><td>1554.864252</td><td>1571.384307</td><td>1589.429773</td><td>1601.198814</td><td>1608.206489</td><td>1612.285439</td><td>1610.779318</td><td>1605.026352</td><td>1595.041636</td><td>&hellip;</td><td>1695.448016</td><td>1693.977145</td><td>1688.634712</td><td>1688.085887</td><td>1681.258922</td><td>1665.691266</td><td>1644.287773</td><td>1626.311261</td><td>1616.326669</td><td>1613.512651</td><td>1617.666487</td><td>1634.418228</td><td>1664.587798</td><td>1701.25802</td><td>1732.736181</td><td>1755.775874</td><td>1773.067282</td><td>1781.517689</td><td>1782.267968</td><td>1780.04691</td><td>1784.66891</td><td>1797.171562</td><td>1813.844312</td><td>1834.331683</td><td>1857.568172</td><td>1883.654945</td><td>1906.133403</td><td>1926.675734</td><td>1935.965115</td><td>1939.042087</td><td>1936.999439</td><td>1930.524303</td><td>1931.114992</td><td>1934.797789</td><td>1949.648014</td><td>1963.410538</td><td>1981.453014</td></tr><tr><td>394514</td><td>4</td><td>&quot;Dallas, TX&quot;</td><td>&quot;msa&quot;</td><td>&quot;TX&quot;</td><td>1156.562026</td><td>1167.566988</td><td>1178.805865</td><td>1187.48186</td><td>1193.257396</td><td>1198.604651</td><td>1200.6443</td><td>1200.257856</td><td>1199.128429</td><td>1199.185531</td><td>1203.312659</td><td>1209.380937</td><td>1219.245174</td><td>1228.429098</td><td>1237.482986</td><td>1244.862494</td><td>1250.29305</td><td>1253.390311</td><td>1253.692352</td><td>1254.318351</td><td>1254.624746</td><td>1255.432305</td><td>1258.371132</td><td>1262.893202</td><td>1272.482402</td><td>1280.88331</td><td>1292.95114</td><td>1301.501298</td><td>1308.924523</td><td>1311.640649</td><td>1311.634859</td><td>1310.501824</td><td>&hellip;</td><td>1409.839972</td><td>1407.565208</td><td>1406.841896</td><td>1411.430326</td><td>1415.027053</td><td>1415.779936</td><td>1419.470146</td><td>1423.567574</td><td>1428.566828</td><td>1432.665686</td><td>1438.742004</td><td>1450.985006</td><td>1472.824227</td><td>1503.562323</td><td>1540.94461</td><td>1580.27503</td><td>1617.987913</td><td>1646.87393</td><td>1662.704628</td><td>1674.626214</td><td>1682.947602</td><td>1692.322005</td><td>1701.968415</td><td>1713.565222</td><td>1735.435491</td><td>1762.878005</td><td>1796.959256</td><td>1822.737036</td><td>1834.605968</td><td>1833.954651</td><td>1821.664564</td><td>1806.901852</td><td>1791.518277</td><td>1785.807533</td><td>1788.122845</td><td>1795.573723</td><td>1801.517431</td></tr></tbody></table></div>"
      ],
      "text/plain": [
       "shape: (5, 103)\n",
       "┌──────────┬──────────┬──────────┬──────────┬───┬──────────┬─────────────┬────────────┬────────────┐\n",
       "│ RegionID ┆ SizeRank ┆ RegionNa ┆ RegionTy ┆ … ┆ 2023-01- ┆ 2023-02-28  ┆ 2023-03-31 ┆ 2023-04-30 │\n",
       "│ ---      ┆ ---      ┆ me       ┆ pe       ┆   ┆ 31       ┆ ---         ┆ ---        ┆ ---        │\n",
       "│ i64      ┆ i64      ┆ ---      ┆ ---      ┆   ┆ ---      ┆ f64         ┆ f64        ┆ f64        │\n",
       "│          ┆          ┆ str      ┆ str      ┆   ┆ f64      ┆             ┆            ┆            │\n",
       "╞══════════╪══════════╪══════════╪══════════╪═══╪══════════╪═════════════╪════════════╪════════════╡\n",
       "│ 102001   ┆ 0        ┆ United   ┆ country  ┆ … ┆ 1991.266 ┆ 1997.22861  ┆ 2006.35421 ┆ 2018.05535 │\n",
       "│          ┆          ┆ States   ┆          ┆   ┆ 756      ┆             ┆ 6          ┆ 3          │\n",
       "│ 394913   ┆ 1        ┆ New      ┆ msa      ┆ … ┆ 3143.696 ┆ 3159.468131 ┆ 3188.55435 ┆ 3229.34647 │\n",
       "│          ┆          ┆ York, NY ┆          ┆   ┆ 116      ┆             ┆ 5          ┆ 8          │\n",
       "│ 753899   ┆ 2        ┆ Los      ┆ msa      ┆ … ┆ 2913.352 ┆ 2916.907462 ┆ 2926.20113 ┆ 2940.36218 │\n",
       "│          ┆          ┆ Angeles, ┆          ┆   ┆ 03       ┆             ┆ 6          ┆ 7          │\n",
       "│          ┆          ┆ CA       ┆          ┆   ┆          ┆             ┆            ┆            │\n",
       "│ 394463   ┆ 3        ┆ Chicago, ┆ msa      ┆ … ┆ 1934.797 ┆ 1949.648014 ┆ 1963.41053 ┆ 1981.45301 │\n",
       "│          ┆          ┆ IL       ┆          ┆   ┆ 789      ┆             ┆ 8          ┆ 4          │\n",
       "│ 394514   ┆ 4        ┆ Dallas,  ┆ msa      ┆ … ┆ 1785.807 ┆ 1788.122845 ┆ 1795.57372 ┆ 1801.51743 │\n",
       "│          ┆          ┆ TX       ┆          ┆   ┆ 533      ┆             ┆ 3          ┆ 1          │\n",
       "└──────────┴──────────┴──────────┴──────────┴───┴──────────┴─────────────┴────────────┴────────────┘"
      ]
     },
     "execution_count": 24,
     "metadata": {},
     "output_type": "execute_result"
    }
   ],
   "source": [
    "# Load pandas dataframe from csv \n",
    "# Convert to polars object \n",
    "# View the first 5 rows \n",
    "\n",
    "df = pd.read_csv('data/Metro_zori_sm_month.csv')\n",
    "df = pl.from_pandas(df)\n",
    "df.head(5)"
   ]
  },
  {
   "cell_type": "code",
   "execution_count": 19,
   "metadata": {},
   "outputs": [],
   "source": [
    "from langchain.embeddings.openai import OpenAIEmbeddings\n",
    "from langchain.vectorstores import Chroma\n",
    "from langchain.text_splitter import CharacterTextSplitter\n",
    "from langchain import OpenAI, VectorDBQA\n",
    "llm = OpenAI(temperature=0)"
   ]
  },
  {
   "cell_type": "code",
   "execution_count": 20,
   "metadata": {},
   "outputs": [],
   "source": [
    "from langchain.document_loaders.csv_loader import CSVLoader"
   ]
  },
  {
   "cell_type": "code",
   "execution_count": 25,
   "metadata": {},
   "outputs": [
    {
     "name": "stderr",
     "output_type": "stream",
     "text": [
      "Using embedded DuckDB without persistence: data will be transient\n"
     ]
    }
   ],
   "source": [
    "from langchain.document_loaders import TextLoader\n",
    "loader = CSVLoader(file_path='data/Metro_zori_sm_month.csv')\n",
    "\n",
    "documents = loader.load()\n",
    "text_splitter = CharacterTextSplitter(chunk_size=1000, chunk_overlap=0)\n",
    "texts = text_splitter.split_documents(documents)\n",
    "\n",
    "embeddings = OpenAIEmbeddings()\n",
    "state_of_union_store = Chroma.from_documents(texts, embeddings, collection_name=\"state-of-union\")"
   ]
  },
  {
   "cell_type": "code",
   "execution_count": 22,
   "metadata": {},
   "outputs": [],
   "source": [
    "from langchain.agents.agent_toolkits import (\n",
    "    create_vectorstore_agent,\n",
    "    VectorStoreToolkit,\n",
    "    VectorStoreInfo,\n",
    ")\n",
    "vectorstore_info = VectorStoreInfo(\n",
    "    name=\"state_of_union_address\",\n",
    "    description=\"the most recent state of the Union adress\",\n",
    "    vectorstore=state_of_union_store\n",
    ")\n",
    "toolkit = VectorStoreToolkit(vectorstore_info=vectorstore_info)\n",
    "agent_executor = create_vectorstore_agent(\n",
    "    llm=llm,\n",
    "    toolkit=toolkit,\n",
    "    verbose=True\n",
    ")"
   ]
  },
  {
   "cell_type": "code",
   "execution_count": null,
   "metadata": {},
   "outputs": [],
   "source": [
    "agent_executor.run(\"What did biden say about ketanji brown jackson is the state of the union address?\")"
   ]
  }
 ],
 "metadata": {
  "kernelspec": {
   "display_name": "real_estate_data",
   "language": "python",
   "name": "python3"
  },
  "language_info": {
   "codemirror_mode": {
    "name": "ipython",
    "version": 3
   },
   "file_extension": ".py",
   "mimetype": "text/x-python",
   "name": "python",
   "nbconvert_exporter": "python",
   "pygments_lexer": "ipython3",
   "version": "3.9.16"
  },
  "orig_nbformat": 4
 },
 "nbformat": 4,
 "nbformat_minor": 2
}
