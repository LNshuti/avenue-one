{
 "cells": [
  {
   "cell_type": "code",
   "execution_count": 2,
   "metadata": {},
   "outputs": [],
   "source": [
    "import pandas as pd \n",
    "import polars as pl \n",
    "import numpy as np\n",
    "import os\n",
    "import re\n",
    "import sys\n",
    "import time\n",
    "\n",
    "from polars import col, lit, when"
   ]
  },
  {
   "cell_type": "code",
   "execution_count": 2,
   "metadata": {},
   "outputs": [
    {
     "name": "stdout",
     "output_type": "stream",
     "text": [
      "Collecting polars\n",
      "  Using cached polars-0.17.14-cp37-abi3-macosx_11_0_arm64.whl (15.4 MB)\n",
      "Installing collected packages: polars\n",
      "Successfully installed polars-0.17.14\n",
      "Note: you may need to restart the kernel to use updated packages.\n"
     ]
    }
   ],
   "source": [
    "%pip install polars"
   ]
  },
  {
   "cell_type": "code",
   "execution_count": 3,
   "metadata": {},
   "outputs": [],
   "source": [
    "import os\n",
    "import getpass\n",
    "\n",
    "os.environ['OPENAI_API_KEY'] = getpass.getpass('OpenAI API Key:')"
   ]
  },
  {
   "cell_type": "code",
   "execution_count": 4,
   "metadata": {},
   "outputs": [
    {
     "name": "stderr",
     "output_type": "stream",
     "text": [
      "Could not import azure.core python package.\n"
     ]
    }
   ],
   "source": [
    "from langchain.agents import create_csv_agent\n",
    "from langchain.llms import OpenAI"
   ]
  },
  {
   "cell_type": "code",
   "execution_count": 9,
   "metadata": {},
   "outputs": [],
   "source": [
    "agent = create_csv_agent(OpenAI(temperature=0), 'data/Metro_zhvf_growth_uc_sfrcondo_tier_0.33_0.67_sm_sa_month.csv', verbose=True)"
   ]
  },
  {
   "cell_type": "code",
   "execution_count": 10,
   "metadata": {},
   "outputs": [
    {
     "name": "stdout",
     "output_type": "stream",
     "text": [
      "\n",
      "\n",
      "\u001b[1m> Entering new AgentExecutor chain...\u001b[0m\n",
      "\u001b[32;1m\u001b[1;3mThought: I need to count the number of rows\n",
      "Action: python_repl_ast\n",
      "Action Input: len(df)\u001b[0m\n",
      "Observation: \u001b[36;1m\u001b[1;3m896\u001b[0m\n",
      "Thought:\u001b[32;1m\u001b[1;3m I now know the final answer\n",
      "Final Answer: 896 rows\u001b[0m\n",
      "\n",
      "\u001b[1m> Finished chain.\u001b[0m\n"
     ]
    },
    {
     "data": {
      "text/plain": [
       "'896 rows'"
      ]
     },
     "execution_count": 10,
     "metadata": {},
     "output_type": "execute_result"
    }
   ],
   "source": [
    "agent.run(\"how many rows are there?\")"
   ]
  },
  {
   "cell_type": "code",
   "execution_count": 11,
   "metadata": {},
   "outputs": [
    {
     "name": "stdout",
     "output_type": "stream",
     "text": [
      "\n",
      "\n",
      "\u001b[1m> Entering new AgentExecutor chain...\u001b[0m\n",
      "\u001b[32;1m\u001b[1;3mThought: I need to look at the data and see what it is telling me\n",
      "Action: python_repl_ast\n",
      "Action Input: df.describe()\u001b[0m\n",
      "Observation: \u001b[36;1m\u001b[1;3m            RegionID    SizeRank  2023-05-31  2023-07-31  2024-04-30\n",
      "count     896.000000  896.000000  896.000000  896.000000  896.000000\n",
      "mean   412080.852679  461.632812    0.386049    0.739063    4.354464\n",
      "std     78335.582250  268.584051    0.464199    0.927743    2.575428\n",
      "min    102001.000000    0.000000   -1.600000   -3.300000   -5.600000\n",
      "25%    394546.500000  230.750000    0.100000    0.300000    2.800000\n",
      "50%    394795.500000  459.500000    0.400000    0.800000    4.500000\n",
      "75%    395045.250000  689.250000    0.600000    1.300000    6.000000\n",
      "max    753929.000000  939.000000    2.100000    5.100000   15.900000\u001b[0m\n",
      "Thought:\u001b[32;1m\u001b[1;3m I can see that the data is about regions in the US, and the columns are related to population growth in different states\n",
      "Final Answer: The dataframe contains information about regions in the US, with columns related to population growth in different states.\u001b[0m\n",
      "\n",
      "\u001b[1m> Finished chain.\u001b[0m\n"
     ]
    },
    {
     "data": {
      "text/plain": [
       "'The dataframe contains information about regions in the US, with columns related to population growth in different states.'"
      ]
     },
     "execution_count": 11,
     "metadata": {},
     "output_type": "execute_result"
    }
   ],
   "source": [
    "agent.run(\"summarize the contents of the table\")"
   ]
  },
  {
   "cell_type": "code",
   "execution_count": 12,
   "metadata": {},
   "outputs": [
    {
     "name": "stdout",
     "output_type": "stream",
     "text": [
      "\n",
      "\n",
      "\u001b[1m> Entering new AgentExecutor chain...\u001b[0m\n",
      "\u001b[32;1m\u001b[1;3mThought: I need to find the regions with the highest growth rate.\n",
      "Action: python_repl_ast\n",
      "Action Input: df.sort_values(by='2024-04-30', ascending=False).head()\u001b[0m\n",
      "Observation: \u001b[36;1m\u001b[1;3m     RegionID  SizeRank         RegionName RegionType StateName    BaseDate   \n",
      "715    394894       734         Murray, KY        msa        KY  2023-04-30  \\\n",
      "886    394342       929       Atchison, KS        msa        KS  2023-04-30   \n",
      "873    394965       911        Parsons, KS        msa        KS  2023-04-30   \n",
      "859    394837       895      Maryville, MO        msa        MO  2023-04-30   \n",
      "802    394892       832  Mountain Home, ID        msa        ID  2023-04-30   \n",
      "\n",
      "     2023-05-31  2023-07-31  2024-04-30  \n",
      "715         1.4         5.1        15.9  \n",
      "886         2.0         3.4        15.3  \n",
      "873         1.9         3.3        13.3  \n",
      "859         2.1         4.4        12.9  \n",
      "802         1.1         2.6        12.1  \u001b[0m\n",
      "Thought:\u001b[32;1m\u001b[1;3m I now know the five fastest growing regions.\n",
      "Final Answer: The five fastest growing regions are Murray, KY; Atchison, KS; Parsons, KS; Maryville, MO; and Mountain Home, ID.\u001b[0m\n",
      "\n",
      "\u001b[1m> Finished chain.\u001b[0m\n"
     ]
    },
    {
     "data": {
      "text/plain": [
       "'The five fastest growing regions are Murray, KY; Atchison, KS; Parsons, KS; Maryville, MO; and Mountain Home, ID.'"
      ]
     },
     "execution_count": 12,
     "metadata": {},
     "output_type": "execute_result"
    }
   ],
   "source": [
    "agent.run(\"What are the five fastest growing regions?\")"
   ]
  },
  {
   "cell_type": "code",
   "execution_count": 13,
   "metadata": {},
   "outputs": [],
   "source": [
    "from langchain.embeddings.openai import OpenAIEmbeddings\n",
    "from langchain.vectorstores import Chroma\n",
    "from langchain.text_splitter import CharacterTextSplitter\n",
    "from langchain import OpenAI, VectorDBQA\n",
    "llm = OpenAI(temperature=0)"
   ]
  },
  {
   "cell_type": "code",
   "execution_count": null,
   "metadata": {},
   "outputs": [],
   "source": []
  }
 ],
 "metadata": {
  "kernelspec": {
   "display_name": "real_estate_data",
   "language": "python",
   "name": "python3"
  },
  "language_info": {
   "codemirror_mode": {
    "name": "ipython",
    "version": 3
   },
   "file_extension": ".py",
   "mimetype": "text/x-python",
   "name": "python",
   "nbconvert_exporter": "python",
   "pygments_lexer": "ipython3",
   "version": "3.9.16"
  },
  "orig_nbformat": 4
 },
 "nbformat": 4,
 "nbformat_minor": 2
}
